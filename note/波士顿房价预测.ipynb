{
 "cells": [
  {
   "cell_type": "code",
   "execution_count": 34,
   "id": "3b056a44",
   "metadata": {},
   "outputs": [],
   "source": [
    "import numpy as np\n",
    "from sklearn.model_selection import train_test_split\n",
    "\n",
    "# 波士顿房价数据集\n",
    "data = np.genfromtxt(\"D:\\Downloads\\housing.csv\", delimiter=',', skip_header=1)\n",
    "X = data[:, :-1]\n",
    "y = data[:, -1]\n",
    "\n",
    "# 数据标准化\n",
    "X = (X - np.mean(X, axis=0)) / np.std(X, axis=0)\n",
    "\n",
    "# 划分训练集和测试集\n",
    "X_train, X_test, y_train, y_test = train_test_split(X, y, test_size=0.2, random_state=42)"
   ]
  },
  {
   "cell_type": "code",
   "execution_count": 35,
   "id": "ddd2d127",
   "metadata": {},
   "outputs": [],
   "source": [
    "# 定义线性回归模型类\n",
    "class LinearRegression:\n",
    "    def __init__(self, fit_intercept=True):\n",
    "        self.fit_intercept = fit_intercept\n",
    "        self.weights = None\n",
    "    \n",
    "    def fit(self, X, y):\n",
    "        if self.fit_intercept:\n",
    "            X = np.concatenate((np.ones((X.shape[0], 1)), X), axis=1)\n",
    "        self.weights = np.linalg.inv(X.T @ X) @ X.T @ y\n",
    "    \n",
    "    def predict(self, X):\n",
    "        if self.fit_intercept:\n",
    "            X = np.concatenate((np.ones((X.shape[0], 1)), X), axis=1)\n",
    "        return X @ self.weights"
   ]
  },
  {
   "cell_type": "code",
   "execution_count": 42,
   "id": "0d597332",
   "metadata": {
    "scrolled": true
   },
   "outputs": [
    {
     "name": "stdout",
     "output_type": "stream",
     "text": [
      "解析解: 24.291119474973563\n"
     ]
    }
   ],
   "source": [
    "# 解析解\n",
    "lr_model = LinearRegression()\n",
    "lr_model.fit(X_train, y_train)\n",
    "y_pred = lr_model.predict(X_test)\n",
    "mse = np.mean((y_pred - y_test) ** 2)\n",
    "print(\"解析解:\", mse)"
   ]
  },
  {
   "cell_type": "code",
   "execution_count": 45,
   "id": "ca8a96d1",
   "metadata": {},
   "outputs": [],
   "source": [
    "# 定义梯度下降模型类\n",
    "class GradientDescent:\n",
    "    def __init__(self, learning_rate=0.01, num_iterations=1000, fit_intercept=True):\n",
    "        self.learning_rate = learning_rate\n",
    "        self.num_iterations = num_iterations\n",
    "        self.fit_intercept = fit_intercept\n",
    "        self.weights = None\n",
    "    \n",
    "    def fit(self, X, y):\n",
    "        if self.fit_intercept:\n",
    "            X = np.concatenate((np.ones((X.shape[0], 1)), X), axis=1)\n",
    "        self.weights = np.zeros(X.shape[1])\n",
    "        num_samples = X.shape[0]\n",
    "        for _ in range(self.num_iterations):\n",
    "            y_pred = X @ self.weights\n",
    "            dw = (1 / num_samples) * X.T @ (y_pred - y)\n",
    "            self.weights -= self.learning_rate * dw\n",
    "    \n",
    "    def predict(self, X):\n",
    "        if self.fit_intercept:\n",
    "            X = np.concatenate((np.ones((X.shape[0], 1)), X), axis=1)\n",
    "        return X @ self.weights"
   ]
  },
  {
   "cell_type": "code",
   "execution_count": 46,
   "id": "8606c8d5",
   "metadata": {},
   "outputs": [
    {
     "name": "stdout",
     "output_type": "stream",
     "text": [
      "梯度下降法: 25.406311694344584\n"
     ]
    }
   ],
   "source": [
    "# 梯度下降法\n",
    "gd_model = GradientDescent()\n",
    "gd_model.fit(X_train, y_train)\n",
    "y_pred = gd_model.predict(X_test)\n",
    "mse = np.mean((y_pred - y_test) ** 2)\n",
    "print(\"梯度下降法:\", mse)"
   ]
  },
  {
   "cell_type": "markdown",
   "id": "ca1f5a17",
   "metadata": {},
   "source": [
    "上述输出了解析解方法和梯度下降法在测试集上的均方误差(MSE),可见解析解方法的值小于梯度下降法，即解析解方法对波士顿房价数据集的拟合效果更好。"
   ]
  },
  {
   "cell_type": "markdown",
   "id": "f26a1f0e",
   "metadata": {},
   "source": [
    "解析解求解直接得出问题解，适用于简单的问题，可以得到全局最优解；而梯度下降法求解通过迭代调整参数，逐步接近最小值点，适用于大规模数据的问题，同时也要注意防止陷入局部最优解"
   ]
  },
  {
   "cell_type": "markdown",
   "id": "0f9aa9db",
   "metadata": {},
   "source": [
    "新年快乐！(〃'▽'〃)"
   ]
  }
 ],
 "metadata": {
  "kernelspec": {
   "display_name": "Python 3 (ipykernel)",
   "language": "python",
   "name": "python3"
  },
  "language_info": {
   "codemirror_mode": {
    "name": "ipython",
    "version": 3
   },
   "file_extension": ".py",
   "mimetype": "text/x-python",
   "name": "python",
   "nbconvert_exporter": "python",
   "pygments_lexer": "ipython3",
   "version": "3.11.5"
  }
 },
 "nbformat": 4,
 "nbformat_minor": 5
}
