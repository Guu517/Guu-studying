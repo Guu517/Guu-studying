{
 "cells": [
  {
   "cell_type": "markdown",
   "id": "1df9142e",
   "metadata": {},
   "source": [
    "# 鸢尾花(KMeans)"
   ]
  },
  {
   "cell_type": "code",
   "execution_count": 1,
   "id": "9d18f50c",
   "metadata": {},
   "outputs": [],
   "source": [
    "# 导入鸢尾花数据集\n",
    "from sklearn.datasets import load_iris"
   ]
  },
  {
   "cell_type": "code",
   "execution_count": 2,
   "id": "6eef2cca",
   "metadata": {},
   "outputs": [
    {
     "data": {
      "text/plain": [
       "dict_keys(['data', 'target', 'frame', 'target_names', 'DESCR', 'feature_names', 'filename', 'data_module'])"
      ]
     },
     "execution_count": 2,
     "metadata": {},
     "output_type": "execute_result"
    }
   ],
   "source": [
    "iris = load_iris()\n",
    "iris.keys()"
   ]
  },
  {
   "cell_type": "code",
   "execution_count": 3,
   "id": "39094881",
   "metadata": {},
   "outputs": [
    {
     "data": {
      "text/plain": [
       "['sepal length (cm)',\n",
       " 'sepal width (cm)',\n",
       " 'petal length (cm)',\n",
       " 'petal width (cm)']"
      ]
     },
     "execution_count": 3,
     "metadata": {},
     "output_type": "execute_result"
    }
   ],
   "source": [
    "# 查看特征名称\n",
    "iris[\"feature_names\"]"
   ]
  },
  {
   "cell_type": "code",
   "execution_count": 4,
   "id": "1e8dc824",
   "metadata": {},
   "outputs": [
    {
     "data": {
      "text/plain": [
       "array(['setosa', 'versicolor', 'virginica'], dtype='<U10')"
      ]
     },
     "execution_count": 4,
     "metadata": {},
     "output_type": "execute_result"
    }
   ],
   "source": [
    "# 查看预估目标\n",
    "iris[\"target_names\"]"
   ]
  },
  {
   "cell_type": "code",
   "execution_count": 5,
   "id": "53a2851f",
   "metadata": {},
   "outputs": [
    {
     "data": {
      "text/plain": [
       "numpy.ndarray"
      ]
     },
     "execution_count": 5,
     "metadata": {},
     "output_type": "execute_result"
    }
   ],
   "source": [
    "data = iris[\"data\"]\n",
    "type(data)"
   ]
  },
  {
   "cell_type": "code",
   "execution_count": 6,
   "id": "7c5c2233",
   "metadata": {},
   "outputs": [
    {
     "data": {
      "text/plain": [
       "(150, 4)"
      ]
     },
     "execution_count": 6,
     "metadata": {},
     "output_type": "execute_result"
    }
   ],
   "source": [
    "data.shape"
   ]
  },
  {
   "cell_type": "code",
   "execution_count": 7,
   "id": "9c4109c4",
   "metadata": {},
   "outputs": [
    {
     "data": {
      "text/plain": [
       "numpy.ndarray"
      ]
     },
     "execution_count": 7,
     "metadata": {},
     "output_type": "execute_result"
    }
   ],
   "source": [
    "target = iris[\"target\"]\n",
    "type(target)"
   ]
  },
  {
   "cell_type": "code",
   "execution_count": 8,
   "id": "4c859896",
   "metadata": {},
   "outputs": [
    {
     "data": {
      "text/plain": [
       "(150,)"
      ]
     },
     "execution_count": 8,
     "metadata": {},
     "output_type": "execute_result"
    }
   ],
   "source": [
    "target.shape"
   ]
  },
  {
   "cell_type": "code",
   "execution_count": 9,
   "id": "eb32f227",
   "metadata": {},
   "outputs": [
    {
     "data": {
      "text/plain": [
       "(105, 4)"
      ]
     },
     "execution_count": 9,
     "metadata": {},
     "output_type": "execute_result"
    }
   ],
   "source": [
    "# 划分训练集和测试集（二八分）\n",
    "from sklearn.model_selection import train_test_split\n",
    "data_train, data_test, target_train, target_test = \\\n",
    "    train_test_split(data,target,test_size=0.3)\n",
    "\n",
    "data_train.shape"
   ]
  },
  {
   "cell_type": "code",
   "execution_count": 10,
   "id": "91bf2eea",
   "metadata": {},
   "outputs": [
    {
     "data": {
      "text/plain": [
       "(105,)"
      ]
     },
     "execution_count": 10,
     "metadata": {},
     "output_type": "execute_result"
    }
   ],
   "source": [
    "target_train.shape"
   ]
  },
  {
   "cell_type": "code",
   "execution_count": 11,
   "id": "88caee53",
   "metadata": {},
   "outputs": [
    {
     "data": {
      "text/plain": [
       "(45, 4)"
      ]
     },
     "execution_count": 11,
     "metadata": {},
     "output_type": "execute_result"
    }
   ],
   "source": [
    "data_test.shape"
   ]
  },
  {
   "cell_type": "code",
   "execution_count": 12,
   "id": "e59398ed",
   "metadata": {},
   "outputs": [
    {
     "data": {
      "text/plain": [
       "(45,)"
      ]
     },
     "execution_count": 12,
     "metadata": {},
     "output_type": "execute_result"
    }
   ],
   "source": [
    "target_test.shape"
   ]
  },
  {
   "cell_type": "code",
   "execution_count": 13,
   "id": "156549f4",
   "metadata": {},
   "outputs": [],
   "source": [
    "import numpy as np\n",
    "\n",
    "# K-means类封装\n",
    "def kmeans(X, k, max_iters=1000): \n",
    "    n_samples, n_features = X.shape\n",
    "    # 初始化聚类中心\n",
    "    centers = X[np.random.choice(n_samples, k, replace=False)]\n",
    "    # 训练迭代搞里头\n",
    "    for _ in range(max_iters):\n",
    "        # 计算每个样本点到各个聚类中心的欧式距离\n",
    "        distances = np.sqrt(np.sum((X[:,np.newaxis]-centers)**2,axis=2))  \n",
    "        # 分配样本到最近的聚类中心得到聚类标签\n",
    "        labels = np.argmin(distances, axis=1)       \n",
    "        # 更新聚类中心为每个聚类的均值\n",
    "        new_centers = np.array([X[labels == i].mean(axis=0) for i in range(k)])        \n",
    "        # 如果聚类中心不再改变，提前结束迭代\n",
    "        if np.all(centers == new_centers):\n",
    "            break\n",
    "        centers = new_centers\n",
    "        \n",
    "    return labels, centers"
   ]
  },
  {
   "cell_type": "code",
   "execution_count": 14,
   "id": "cfa59e6c",
   "metadata": {},
   "outputs": [],
   "source": [
    "# 使用K-means\n",
    "k = 3\n",
    "labels, centers = kmeans(data_train, k)"
   ]
  },
  {
   "cell_type": "code",
   "execution_count": 15,
   "id": "0dc273a3",
   "metadata": {},
   "outputs": [
    {
     "name": "stdout",
     "output_type": "stream",
     "text": [
      "SSE: 52.03541453634085\n"
     ]
    }
   ],
   "source": [
    "# 使用SSE评析聚类效果\n",
    "predictions = np.array([centers[label] for label in labels])\n",
    "sse = np.sum(np.linalg.norm(data_train - predictions, axis=1)**2)\n",
    "print(f\"SSE: {sse}\")"
   ]
  },
  {
   "cell_type": "code",
   "execution_count": 16,
   "id": "b484d9c3",
   "metadata": {},
   "outputs": [
    {
     "data": {
      "image/png": "[encoded data removed]",
      "text/plain": [
       "<Figure size 640x480 with 1 Axes>"
      ]
     },
     "metadata": {},
     "output_type": "display_data"
    }
   ],
   "source": [
    "# 可视化一下看看划分得咋样\n",
    "\n",
    "# 先看看使用萼片特征划分的结果\n",
    "import matplotlib.pyplot as plt\n",
    "plt.figure()\n",
    "colors = ['r', 'g', 'b']\n",
    "for i in range(k):\n",
    "    plt.scatter(data_train[labels == i, 0], data_train[labels == i, 1], c=colors[i], label=f'Cluster {i+1}')\n",
    "plt.scatter(centers[:, 0], centers[:, 1], c='black', marker='x', label='Centroids')\n",
    "plt.xlabel('Sepal Length')\n",
    "plt.ylabel('Sepal Width')\n",
    "plt.title('K-means Clustering of Iris Dataset using Sepal Features')\n",
    "plt.legend()\n",
    "plt.show()"
   ]
  },
  {
   "cell_type": "markdown",
   "id": "a00f426f",
   "metadata": {},
   "source": [
    "### 不是very good，簇和簇之间存在交错，下面用花瓣特征试试！"
   ]
  },
  {
   "cell_type": "code",
   "execution_count": 21,
   "id": "3cc23717",
   "metadata": {},
   "outputs": [
    {
     "name": "stdout",
     "output_type": "stream",
     "text": [
      "SSE: 19.68863862781955\n"
     ]
    }
   ],
   "source": [
    "# 使用K-means\n",
    "X = data_train[:, 2:]\n",
    "p_labels, p_centers = kmeans(X, k)\n",
    "# 使用SSE评析聚类效果\n",
    "p_predictions = np.array([p_centers[label] for label in p_labels])\n",
    "p_sse = np.sum(np.linalg.norm(X - p_predictions, axis=1)**2)\n",
    "print(f\"SSE: {p_sse}\")"
   ]
  },
  {
   "cell_type": "markdown",
   "id": "e6779a73",
   "metadata": {},
   "source": [
    "### 发现比起使用萼片特征，使用花瓣特征的误差更小喔"
   ]
  },
  {
   "cell_type": "code",
   "execution_count": 22,
   "id": "bc473e85",
   "metadata": {},
   "outputs": [
    {
     "data": {
      "image/png": "[encoded data removed]",
      "text/plain": [
       "<Figure size 640x480 with 1 Axes>"
      ]
     },
     "metadata": {},
     "output_type": "display_data"
    }
   ],
   "source": [
    "# 看看使用花瓣特征划分的结果\n",
    "plt.figure()\n",
    "colors = ['r', 'g', 'b']\n",
    "for i in range(k):\n",
    "    plt.scatter(X[p_labels == i, 0], X[p_labels == i, 1], c=colors[i], label=f'Cluster {i+1}')\n",
    "plt.scatter(p_centers[:, 0], p_centers[:, 1], c='black', marker='x', label='Centroids')\n",
    "plt.xlabel('Petal Length')\n",
    "plt.ylabel('Petal Width')\n",
    "plt.title('K-means Clustering of Iris Dataset using Petal Features')\n",
    "plt.legend()\n",
    "plt.show()"
   ]
  },
  {
   "cell_type": "markdown",
   "id": "f03dc288",
   "metadata": {},
   "source": [
    "可视化中也没有明显的交错了，很好的结果使我大脑旋转"
   ]
  }
 ],
 "metadata": {
  "kernelspec": {
   "display_name": "Python 3 (ipykernel)",
   "language": "python",
   "name": "python3"
  },
  "language_info": {
   "codemirror_mode": {
    "name": "ipython",
    "version": 3
   },
   "file_extension": ".py",
   "mimetype": "text/x-python",
   "name": "python",
   "nbconvert_exporter": "python",
   "pygments_lexer": "ipython3",
   "version": "3.11.5"
  }
 },
 "nbformat": 4,
 "nbformat_minor": 5
}
